{
 "cells": [
  {
   "cell_type": "code",
   "execution_count": 1,
   "id": "f2ecce64",
   "metadata": {},
   "outputs": [
    {
     "name": "stdout",
     "output_type": "stream",
     "text": [
      "3\n",
      "7\n",
      "11\n",
      "15\n",
      "___\n",
      "3\n",
      "7\n",
      "11\n",
      "15\n"
     ]
    }
   ],
   "source": [
    "def my_range (start: int = None, end: int = None, step: int = 1):\n",
    "    if start != None and end == None:\n",
    "        end = start\n",
    "        start = 0\n",
    "    i=0\n",
    "    output = []\n",
    "    while(start + step*i<end):\n",
    "        output.append(start + step*i)\n",
    "        i=i+1\n",
    "    return output\n",
    "\n",
    "for x in my_range(3,17,4):\n",
    "    print(x)\n",
    "    \n",
    "print(\"___\")\n",
    "\n",
    "for x in range(3,17,4):\n",
    "    print(x)\n"
   ]
  },
  {
   "cell_type": "code",
   "execution_count": null,
   "id": "717dd974",
   "metadata": {},
   "outputs": [],
   "source": []
  }
 ],
 "metadata": {
  "kernelspec": {
   "display_name": "Python 3 (ipykernel)",
   "language": "python",
   "name": "python3"
  },
  "language_info": {
   "codemirror_mode": {
    "name": "ipython",
    "version": 3
   },
   "file_extension": ".py",
   "mimetype": "text/x-python",
   "name": "python",
   "nbconvert_exporter": "python",
   "pygments_lexer": "ipython3",
   "version": "3.9.5"
  }
 },
 "nbformat": 4,
 "nbformat_minor": 5
}
