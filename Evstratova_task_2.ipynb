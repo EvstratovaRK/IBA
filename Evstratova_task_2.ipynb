{
 "cells": [
  {
   "cell_type": "code",
   "execution_count": 1,
   "id": "2f830fe0",
   "metadata": {},
   "outputs": [
    {
     "name": "stdout",
     "output_type": "stream",
     "text": [
      "Input ticket number: \n",
      "123321\n",
      "Ticket is lucky\n"
     ]
    }
   ],
   "source": [
    "print(\"Input ticket number: \")\n",
    "a=input()\n",
    "if len(a)%2!=0:\n",
    "    print (\"Ticket number must contain an even number of digits!\")\n",
    "else:\n",
    "    ticket_number = [int(number) for number in a]\n",
    "    center=int(len(ticket_number)/2)\n",
    "    if sum(ticket_number[center:]) == sum(ticket_number[:center]):\n",
    "        print('Ticket is lucky')\n",
    "    else:\n",
    "        print('Ticket is unlucky')"
   ]
  },
  {
   "cell_type": "code",
   "execution_count": 2,
   "id": "4d78e055",
   "metadata": {},
   "outputs": [
    {
     "name": "stdout",
     "output_type": "stream",
     "text": [
      "Input ticket number: \n",
      "145789\n",
      "Ticket is unlucky\n"
     ]
    }
   ],
   "source": [
    "print(\"Input ticket number: \")\n",
    "a=input()\n",
    "if len(a)%2!=0:\n",
    "    print (\"Ticket number must contain an even number of digits!\")\n",
    "else:\n",
    "    ticket_number = [int(number) for number in a]\n",
    "    center=int(len(ticket_number)/2)\n",
    "    if sum(ticket_number[center:]) == sum(ticket_number[:center]):\n",
    "        print('Ticket is lucky')\n",
    "    else:\n",
    "        print('Ticket is unlucky')"
   ]
  },
  {
   "cell_type": "code",
   "execution_count": 3,
   "id": "acd27ed0",
   "metadata": {},
   "outputs": [
    {
     "name": "stdout",
     "output_type": "stream",
     "text": [
      "Input ticket number: \n",
      "321\n",
      "Ticket number must contain an even number of digits!\n"
     ]
    }
   ],
   "source": [
    "print(\"Input ticket number: \")\n",
    "a=input()\n",
    "if len(a)%2!=0:\n",
    "    print (\"Ticket number must contain an even number of digits!\")\n",
    "else:\n",
    "    ticket_number = [int(number) for number in a]\n",
    "    center=int(len(ticket_number)/2)\n",
    "    if sum(ticket_number[center:]) == sum(ticket_number[:center]):\n",
    "        print('Ticket is lucky')\n",
    "    else:\n",
    "        print('Ticket is unlucky')"
   ]
  },
  {
   "cell_type": "code",
   "execution_count": null,
   "id": "d3407440",
   "metadata": {},
   "outputs": [],
   "source": []
  }
 ],
 "metadata": {
  "kernelspec": {
   "display_name": "Python 3 (ipykernel)",
   "language": "python",
   "name": "python3"
  },
  "language_info": {
   "codemirror_mode": {
    "name": "ipython",
    "version": 3
   },
   "file_extension": ".py",
   "mimetype": "text/x-python",
   "name": "python",
   "nbconvert_exporter": "python",
   "pygments_lexer": "ipython3",
   "version": "3.9.5"
  }
 },
 "nbformat": 4,
 "nbformat_minor": 5
}
